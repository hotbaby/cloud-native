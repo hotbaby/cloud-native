{
 "cells": [
  {
   "cell_type": "markdown",
   "id": "elect-reverse",
   "metadata": {},
   "source": [
    "# SkyWalking实践"
   ]
  },
  {
   "cell_type": "markdown",
   "id": "aerial-dealer",
   "metadata": {},
   "source": [
    "## 参考文献"
   ]
  },
  {
   "cell_type": "markdown",
   "id": "starting-jason",
   "metadata": {},
   "source": [
    "* *https://apisix.apache.org/zh/docs/apisix/plugins/skywalking/*\n",
    "* *https://github.com/hotbaby/apisix-conf*\n",
    "* *https://skywalking.apache.org*"
   ]
  },
  {
   "cell_type": "markdown",
   "id": "controlling-registrar",
   "metadata": {},
   "source": [
    "## 搭建SkyWalking"
   ]
  },
  {
   "cell_type": "markdown",
   "id": "limited-basic",
   "metadata": {},
   "source": [
    "|组件|版本|服务|\n",
    "|--|----|----|\n",
    "|APISIX|`2.6`|APISIX|\n",
    "|elasticsearch|`6.7.2`|存储后端|\n",
    "|skywalking|`8.3.0-es6`|skywalking服务|\n",
    "|skywalking-ui|`8.3.0`| skywalking UI|\n"
   ]
  },
  {
   "cell_type": "markdown",
   "id": "ahead-connecticut",
   "metadata": {},
   "source": [
    "> **重要： elasticsearch、skywalking和skywalking-ui的版本一定匹配，否则可能启动失败，APISIX agent无法接入。**"
   ]
  },
  {
   "cell_type": "markdown",
   "id": "final-thread",
   "metadata": {},
   "source": [
    "### 启动Elasticsearch"
   ]
  },
  {
   "cell_type": "markdown",
   "id": "german-german",
   "metadata": {},
   "source": [
    "```shell\n",
    "docker kill elasticsearch\n",
    "docker rm elasticsearch\n",
    "docker run -d --restart always \\\n",
    "              --name elasticsearch \\\n",
    "              -p 9200:9200 \\\n",
    "              -p 9300:9300 \\\n",
    "              -e \"discovery.type=single-node\" \\\n",
    "              -v /data/elasticsearch/data:/usr/share/elasticsearch/data \\\n",
    "              -v /data/elasticsearch/logs:/usr/share/elasticsearch/logs \\\n",
    "              elasticsearch:6.7.2\n",
    "```"
   ]
  },
  {
   "cell_type": "markdown",
   "id": "numerous-anthony",
   "metadata": {},
   "source": [
    ">提前创建` /data/elasticsearch/data`和` /data/elasticsearch/logs`目录"
   ]
  },
  {
   "cell_type": "markdown",
   "id": "dried-draft",
   "metadata": {},
   "source": [
    "### 启动`SkyWalking`"
   ]
  },
  {
   "cell_type": "markdown",
   "id": "strategic-standing",
   "metadata": {},
   "source": [
    "等待elasticsearch启动成功后，再启动skywalking。"
   ]
  },
  {
   "cell_type": "markdown",
   "id": "endless-placement",
   "metadata": {},
   "source": [
    "```shell\n",
    "\n",
    "docker kill skywalking\n",
    "docker rm skywalking\n",
    "docker run -d --restart always \\\n",
    "              --name skywalking \\\n",
    "              -p 11800:11800 \\\n",
    "              -p 12800:12800 \\\n",
    "              -e TZ=Asia/Shanghai \\\n",
    "              --link elasticsearch:elasticsearch \\\n",
    "              -e SW_STORAGE=elasticsearch \\\n",
    "              -e SW_STORAGE_ES_CLUSTER_NODES=elasticsearch:9200 \\\n",
    "              apache/skywalking-oap-server:8.3.0-es6\n",
    "```"
   ]
  },
  {
   "cell_type": "markdown",
   "id": "consistent-midwest",
   "metadata": {},
   "source": [
    "### 启动 SkyWalking UI"
   ]
  },
  {
   "cell_type": "markdown",
   "id": "convinced-timeline",
   "metadata": {},
   "source": [
    "等待skywalking oap启动成功，再启动skywalking-ui。"
   ]
  },
  {
   "cell_type": "markdown",
   "id": "operating-function",
   "metadata": {},
   "source": [
    "```shell\n",
    "docker kill skywalking-ui\n",
    "docker rm skywalking-ui\n",
    "docker run -d --restart always \\\n",
    "              --name skywalking-ui \\\n",
    "              -p 8080:8080 \\\n",
    "              --link skywalking:skywalking \\\n",
    "              -e SW_OAP_ADDRESS=skywalking:12800 \\\n",
    "              apache/skywalking-ui:8.3.0\n",
    "```"
   ]
  },
  {
   "cell_type": "markdown",
   "id": "colored-excellence",
   "metadata": {},
   "source": [
    "启动成功，可以通过`http://ip:8080`访问skywalking-ui。"
   ]
  },
  {
   "cell_type": "markdown",
   "id": "arabic-sister",
   "metadata": {},
   "source": [
    "## SkyWalking接入"
   ]
  },
  {
   "cell_type": "markdown",
   "id": "narrative-thomson",
   "metadata": {},
   "source": [
    "### APISIX接入SkyWalking"
   ]
  },
  {
   "cell_type": "markdown",
   "id": "german-assessment",
   "metadata": {},
   "source": [
    "配置APISIX"
   ]
  },
  {
   "cell_type": "markdown",
   "id": "expanded-gathering",
   "metadata": {},
   "source": [
    "`confg/config.yaml`"
   ]
  },
  {
   "cell_type": "markdown",
   "id": "failing-november",
   "metadata": {},
   "source": [
    "```yaml\n",
    "plugins:                          # plugin list (sorted in alphabetical order)\n",
    "  - api-breaker\n",
    "  - skywalking\n",
    "\n",
    "plugin_attr:\n",
    "  skywalking:\n",
    "    service_name: APISIX\n",
    "    service_instance_name: \"APISIX Ubuntu Instance\"\n",
    "    endpoint_addr: http://skywalking:12800\n",
    "\n",
    "\n",
    "```"
   ]
  },
  {
   "cell_type": "markdown",
   "id": "conservative-islam",
   "metadata": {},
   "source": [
    "配置路由`skywalking`插件。"
   ]
  },
  {
   "cell_type": "markdown",
   "id": "premier-collectible",
   "metadata": {},
   "source": [
    "**不要配置全局`skywalking`插件，否则会报错，参考 [issue](https://github.com/apache/apisix/issues/4571).**"
   ]
  },
  {
   "cell_type": "markdown",
   "id": "representative-polish",
   "metadata": {},
   "source": [
    "### Python客户端接入SkyWalking"
   ]
  },
  {
   "cell_type": "markdown",
   "id": "absolute-miami",
   "metadata": {},
   "source": [
    "安装`apache-skywalking`Python依赖包："
   ]
  },
  {
   "cell_type": "markdown",
   "id": "regular-basin",
   "metadata": {},
   "source": [
    "```shell\n",
    "pip install apache-skywalking==0.6.0\n",
    "```"
   ]
  },
  {
   "cell_type": "markdown",
   "id": "right-discussion",
   "metadata": {},
   "source": [
    "Flask demo `sw_agent.py`"
   ]
  },
  {
   "cell_type": "markdown",
   "id": "extraordinary-workshop",
   "metadata": {},
   "source": [
    "```python\n",
    "# encoding: utf8\n",
    "\n",
    "import logging\n",
    "from flask import Flask\n",
    "from skywalking import agent, config\n",
    "\n",
    "config.init(collector='172.30.12.122:11800', service='Flask', instance='MBP')\n",
    "agent.start()\n",
    "\n",
    "\n",
    "app = Flask(__name__)\n",
    "\n",
    "\n",
    "@app.route('/test', methods=['GET'])\n",
    "def demo():\n",
    "    return \"Test skywalking\"\n",
    "\n",
    "\n",
    "if __name__ == '__main__':\n",
    "    logging.basicConfig()\n",
    "    app.run()\n",
    "\n",
    "```"
   ]
  },
  {
   "cell_type": "markdown",
   "id": "opening-member",
   "metadata": {},
   "source": [
    "测试"
   ]
  },
  {
   "cell_type": "markdown",
   "id": "square-lewis",
   "metadata": {},
   "source": [
    "```shell\n",
    "for i in $(seq 1 1000); do echo $i && curl http://localhost:5000/test && sleep .1; done\n",
    "```"
   ]
  },
  {
   "cell_type": "markdown",
   "id": "voluntary-hearts",
   "metadata": {},
   "source": [
    "## FAQ"
   ]
  },
  {
   "cell_type": "markdown",
   "id": "cardiovascular-capitol",
   "metadata": {},
   "source": [
    "略"
   ]
  }
 ],
 "metadata": {
  "kernelspec": {
   "display_name": "Python 3",
   "language": "python",
   "name": "python3"
  },
  "language_info": {
   "codemirror_mode": {
    "name": "ipython",
    "version": 3
   },
   "file_extension": ".py",
   "mimetype": "text/x-python",
   "name": "python",
   "nbconvert_exporter": "python",
   "pygments_lexer": "ipython3",
   "version": "3.7.9"
  },
  "toc": {
   "base_numbering": 1,
   "nav_menu": {},
   "number_sections": true,
   "sideBar": true,
   "skip_h1_title": false,
   "title_cell": "Table of Contents",
   "title_sidebar": "Contents",
   "toc_cell": false,
   "toc_position": {},
   "toc_section_display": true,
   "toc_window_display": true
  }
 },
 "nbformat": 4,
 "nbformat_minor": 5
}
